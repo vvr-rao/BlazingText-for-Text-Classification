{
 "cells": [
  {
   "cell_type": "markdown",
   "metadata": {},
   "source": [
    "Data setup for Blazing Text TextClassification algorithm. Format needs to be as follows (https://docs.aws.amazon.com/sagemaker/latest/dg/blazingtext.html)\n",
    "\n",
    "We need to preprocess the training data into space separated tokenized text format which can be consumed by BlazingText algorithm. The class label(s) should be prefixed with __label__ and it should be present in the same line along with the original sentence. We'll use nltk library to tokenize the input sentences f.\n",
    "\n",
    "    Train with File Mode\n",
    "    For supervised mode, the training/validation file should contain a training sentence per line along with the labels. Labels are words that are prefixed by the string \"__label__\". Here is an example of a training/validation file:\n",
    "    \"__label__4\"  linux ready for prime time , intel says , despite all the linux hype , the open-source movement has yet to make a huge splash in the desktop market . that may be about to change , thanks to chipmaking giant intel corp .\n",
    "\n",
    "\"__label__2\"  bowled by the slower one again , kolkata , november 14 the past caught up with sourav ganguly as the indian skippers return to international cricket was short lived . \n",
    "\n",
    "\n",
    "Data Source was the Sentiment140 dataset from Kaggle conprising 160k Twitter messages: https://www.kaggle.com/kazanova/sentiment140\n"
   ]
  },
  {
   "cell_type": "code",
   "execution_count": 1,
   "metadata": {},
   "outputs": [
    {
     "name": "stdout",
     "output_type": "stream",
     "text": [
      "[nltk_data] Downloading package punkt to /home/ec2-user/nltk_data...\n",
      "[nltk_data]   Package punkt is already up-to-date!\n"
     ]
    },
    {
     "data": {
      "text/plain": [
       "True"
      ]
     },
     "execution_count": 1,
     "metadata": {},
     "output_type": "execute_result"
    }
   ],
   "source": [
    "import numpy as np\n",
    "import pandas as pd\n",
    "import matplotlib.pyplot as plt\n",
    "from sklearn.utils import shuffle\n",
    "import re\n",
    "import csv\n",
    "\n",
    "import nltk\n",
    "\n",
    "nltk.download('punkt')"
   ]
  },
  {
   "cell_type": "code",
   "execution_count": 2,
   "metadata": {},
   "outputs": [
    {
     "name": "stdout",
     "output_type": "stream",
     "text": [
      "Welcome to the   where the points don't matter. Thats Right!! the Points are just number to look at till someone get's  Knocked out.\n"
     ]
    }
   ],
   "source": [
    "\n",
    "Tweet = \"Welcome to the @UFC @drewCarrey where the points don't matter. Thats Right!! the Points are just number to look at till someone get's  Knocked out.\"\n",
    "Tweet = re.sub('@[^\\s]+','',Tweet)\n",
    "print (Tweet)"
   ]
  },
  {
   "cell_type": "code",
   "execution_count": 3,
   "metadata": {},
   "outputs": [
    {
     "name": "stdout",
     "output_type": "stream",
     "text": [
      "['welcome', 'to', 'the', 'where', 'the', 'points', 'do', \"n't\", 'matter', '.', 'thats', 'right', '!', '!', 'the', 'points', 'are', 'just', 'number', 'to', 'look', 'at', 'till', 'someone', 'get', \"'s\", 'knocked', 'out', '.']\n"
     ]
    }
   ],
   "source": [
    "#print (nltk.word_tokenize(Tweet))\n",
    "print (nltk.word_tokenize(Tweet.lower()))"
   ]
  },
  {
   "cell_type": "code",
   "execution_count": 4,
   "metadata": {},
   "outputs": [],
   "source": [
    "df = pd.read_csv('sentimentdata.csv', delimiter=',',encoding=\"latin1\", header=None, usecols=[0,5]) \n",
    "#df = pd.read_csv('sentimentdata.csv', delimiter=',', nrows = 60000, header=None, usecols=[0,5]) \n",
    "#df = pd.read_csv('tester.csv', delimiter=',', header=None) \n",
    "# only need column 1(sentiment) and 6(Tweet)"
   ]
  },
  {
   "cell_type": "code",
   "execution_count": 5,
   "metadata": {},
   "outputs": [
    {
     "name": "stdout",
     "output_type": "stream",
     "text": [
      "<class 'pandas.core.frame.DataFrame'>\n",
      "RangeIndex: 1600000 entries, 0 to 1599999\n",
      "Data columns (total 2 columns):\n",
      "0    1600000 non-null int64\n",
      "5    1600000 non-null object\n",
      "dtypes: int64(1), object(1)\n",
      "memory usage: 24.4+ MB\n"
     ]
    }
   ],
   "source": [
    "df.info()"
   ]
  },
  {
   "cell_type": "code",
   "execution_count": 6,
   "metadata": {},
   "outputs": [
    {
     "data": {
      "text/html": [
       "<div>\n",
       "<style scoped>\n",
       "    .dataframe tbody tr th:only-of-type {\n",
       "        vertical-align: middle;\n",
       "    }\n",
       "\n",
       "    .dataframe tbody tr th {\n",
       "        vertical-align: top;\n",
       "    }\n",
       "\n",
       "    .dataframe thead th {\n",
       "        text-align: right;\n",
       "    }\n",
       "</style>\n",
       "<table border=\"1\" class=\"dataframe\">\n",
       "  <thead>\n",
       "    <tr style=\"text-align: right;\">\n",
       "      <th></th>\n",
       "      <th>0</th>\n",
       "      <th>5</th>\n",
       "    </tr>\n",
       "  </thead>\n",
       "  <tbody>\n",
       "    <tr>\n",
       "      <th>0</th>\n",
       "      <td>0</td>\n",
       "      <td>@switchfoot http://twitpic.com/2y1zl - Awww, t...</td>\n",
       "    </tr>\n",
       "    <tr>\n",
       "      <th>1</th>\n",
       "      <td>0</td>\n",
       "      <td>is upset that he can't update his Facebook by ...</td>\n",
       "    </tr>\n",
       "    <tr>\n",
       "      <th>2</th>\n",
       "      <td>0</td>\n",
       "      <td>@Kenichan I dived many times for the ball. Man...</td>\n",
       "    </tr>\n",
       "    <tr>\n",
       "      <th>3</th>\n",
       "      <td>0</td>\n",
       "      <td>my whole body feels itchy and like its on fire</td>\n",
       "    </tr>\n",
       "    <tr>\n",
       "      <th>4</th>\n",
       "      <td>0</td>\n",
       "      <td>@nationwideclass no, it's not behaving at all....</td>\n",
       "    </tr>\n",
       "  </tbody>\n",
       "</table>\n",
       "</div>"
      ],
      "text/plain": [
       "   0                                                  5\n",
       "0  0  @switchfoot http://twitpic.com/2y1zl - Awww, t...\n",
       "1  0  is upset that he can't update his Facebook by ...\n",
       "2  0  @Kenichan I dived many times for the ball. Man...\n",
       "3  0    my whole body feels itchy and like its on fire \n",
       "4  0  @nationwideclass no, it's not behaving at all...."
      ]
     },
     "execution_count": 6,
     "metadata": {},
     "output_type": "execute_result"
    }
   ],
   "source": [
    "df.head()"
   ]
  },
  {
   "cell_type": "code",
   "execution_count": 7,
   "metadata": {},
   "outputs": [
    {
     "data": {
      "text/plain": [
       "(1600000, 2)"
      ]
     },
     "execution_count": 7,
     "metadata": {},
     "output_type": "execute_result"
    }
   ],
   "source": [
    "df.shape"
   ]
  },
  {
   "cell_type": "code",
   "execution_count": 8,
   "metadata": {},
   "outputs": [
    {
     "data": {
      "text/html": [
       "<div>\n",
       "<style scoped>\n",
       "    .dataframe tbody tr th:only-of-type {\n",
       "        vertical-align: middle;\n",
       "    }\n",
       "\n",
       "    .dataframe tbody tr th {\n",
       "        vertical-align: top;\n",
       "    }\n",
       "\n",
       "    .dataframe thead th {\n",
       "        text-align: right;\n",
       "    }\n",
       "</style>\n",
       "<table border=\"1\" class=\"dataframe\">\n",
       "  <thead>\n",
       "    <tr style=\"text-align: right;\">\n",
       "      <th></th>\n",
       "      <th>0</th>\n",
       "      <th>5</th>\n",
       "    </tr>\n",
       "  </thead>\n",
       "  <tbody>\n",
       "    <tr>\n",
       "      <th>1112654</th>\n",
       "      <td>4</td>\n",
       "      <td>@TravelThirst u make everyday a #travel day, l...</td>\n",
       "    </tr>\n",
       "    <tr>\n",
       "      <th>30370</th>\n",
       "      <td>0</td>\n",
       "      <td>@jreagon11 I'm not Im going to stay awake  or ...</td>\n",
       "    </tr>\n",
       "    <tr>\n",
       "      <th>904199</th>\n",
       "      <td>4</td>\n",
       "      <td>So why did my internal alarm clock wake me @ 6...</td>\n",
       "    </tr>\n",
       "    <tr>\n",
       "      <th>312521</th>\n",
       "      <td>0</td>\n",
       "      <td>last keg night of the year</td>\n",
       "    </tr>\n",
       "    <tr>\n",
       "      <th>1437786</th>\n",
       "      <td>4</td>\n",
       "      <td>Actually, a puppy is too much expensive... Who...</td>\n",
       "    </tr>\n",
       "    <tr>\n",
       "      <th>1281352</th>\n",
       "      <td>4</td>\n",
       "      <td>@Rog42 At least I haven't heard any Bing Crosb...</td>\n",
       "    </tr>\n",
       "    <tr>\n",
       "      <th>1010093</th>\n",
       "      <td>4</td>\n",
       "      <td>@iGrace no frooti today for you girl! everyone...</td>\n",
       "    </tr>\n",
       "    <tr>\n",
       "      <th>170795</th>\n",
       "      <td>0</td>\n",
       "      <td>Fb I hate when I try &amp;amp; support my local bo...</td>\n",
       "    </tr>\n",
       "    <tr>\n",
       "      <th>1188917</th>\n",
       "      <td>4</td>\n",
       "      <td>@shikarasolis Awe that is sweet, i am spending...</td>\n",
       "    </tr>\n",
       "    <tr>\n",
       "      <th>457454</th>\n",
       "      <td>0</td>\n",
       "      <td>@bohemiangeek @sciencegoddess no cup holder  B...</td>\n",
       "    </tr>\n",
       "    <tr>\n",
       "      <th>182352</th>\n",
       "      <td>0</td>\n",
       "      <td>@evry1sucksbutme at crocker park. Sorry  We HA...</td>\n",
       "    </tr>\n",
       "    <tr>\n",
       "      <th>1246015</th>\n",
       "      <td>4</td>\n",
       "      <td>Just popped out to my veggie patch and very ha...</td>\n",
       "    </tr>\n",
       "    <tr>\n",
       "      <th>1060211</th>\n",
       "      <td>4</td>\n",
       "      <td>@kruss73 I'm good, thanks! How are you? Day go...</td>\n",
       "    </tr>\n",
       "    <tr>\n",
       "      <th>115517</th>\n",
       "      <td>0</td>\n",
       "      <td>@PIGEH I saw it as an improvement, I hated the...</td>\n",
       "    </tr>\n",
       "    <tr>\n",
       "      <th>1428569</th>\n",
       "      <td>4</td>\n",
       "      <td>@siriuslyheather Well enjoy your passing out. ...</td>\n",
       "    </tr>\n",
       "    <tr>\n",
       "      <th>268321</th>\n",
       "      <td>0</td>\n",
       "      <td>decorating in this fine sunny weather!</td>\n",
       "    </tr>\n",
       "    <tr>\n",
       "      <th>1035437</th>\n",
       "      <td>4</td>\n",
       "      <td>Is ecstatic for Little Kaufman! Kick a** at st...</td>\n",
       "    </tr>\n",
       "    <tr>\n",
       "      <th>1196325</th>\n",
       "      <td>4</td>\n",
       "      <td>whoho 111 followers</td>\n",
       "    </tr>\n",
       "    <tr>\n",
       "      <th>654420</th>\n",
       "      <td>0</td>\n",
       "      <td>i hate this time of year  not seeing some peop...</td>\n",
       "    </tr>\n",
       "    <tr>\n",
       "      <th>1546986</th>\n",
       "      <td>4</td>\n",
       "      <td>westmore makeup academy in burbank california?...</td>\n",
       "    </tr>\n",
       "  </tbody>\n",
       "</table>\n",
       "</div>"
      ],
      "text/plain": [
       "         0                                                  5\n",
       "1112654  4  @TravelThirst u make everyday a #travel day, l...\n",
       "30370    0  @jreagon11 I'm not Im going to stay awake  or ...\n",
       "904199   4  So why did my internal alarm clock wake me @ 6...\n",
       "312521   0                        last keg night of the year \n",
       "1437786  4  Actually, a puppy is too much expensive... Who...\n",
       "1281352  4  @Rog42 At least I haven't heard any Bing Crosb...\n",
       "1010093  4  @iGrace no frooti today for you girl! everyone...\n",
       "170795   0  Fb I hate when I try &amp; support my local bo...\n",
       "1188917  4  @shikarasolis Awe that is sweet, i am spending...\n",
       "457454   0  @bohemiangeek @sciencegoddess no cup holder  B...\n",
       "182352   0  @evry1sucksbutme at crocker park. Sorry  We HA...\n",
       "1246015  4  Just popped out to my veggie patch and very ha...\n",
       "1060211  4  @kruss73 I'm good, thanks! How are you? Day go...\n",
       "115517   0  @PIGEH I saw it as an improvement, I hated the...\n",
       "1428569  4  @siriuslyheather Well enjoy your passing out. ...\n",
       "268321   0            decorating in this fine sunny weather! \n",
       "1035437  4  Is ecstatic for Little Kaufman! Kick a** at st...\n",
       "1196325  4                               whoho 111 followers \n",
       "654420   0  i hate this time of year  not seeing some peop...\n",
       "1546986  4  westmore makeup academy in burbank california?..."
      ]
     },
     "execution_count": 8,
     "metadata": {},
     "output_type": "execute_result"
    }
   ],
   "source": [
    "df = shuffle(df)\n",
    "df.head(20)"
   ]
  },
  {
   "cell_type": "code",
   "execution_count": 9,
   "metadata": {},
   "outputs": [],
   "source": [
    "#df[df.columns[0]] \n",
    "#vaules in first column"
   ]
  },
  {
   "cell_type": "code",
   "execution_count": 10,
   "metadata": {},
   "outputs": [
    {
     "name": "stdout",
     "output_type": "stream",
     "text": [
      "{0: 'Negative', 4: 'Positive'}\n",
      "Positive\n"
     ]
    }
   ],
   "source": [
    "# 0 = negative, 2 = neutral, 4 = positive. Issue with data set - only 0 and 4 are available\n",
    "index_to_label = {}\n",
    "index_to_label[0] = 'Negative'\n",
    "index_to_label[4] = 'Positive'\n",
    "print(index_to_label)\n",
    "print(index_to_label[4])"
   ]
  },
  {
   "cell_type": "code",
   "execution_count": 11,
   "metadata": {},
   "outputs": [
    {
     "name": "stdout",
     "output_type": "stream",
     "text": [
      "__label__Positive\n"
     ]
    }
   ],
   "source": [
    "# set Labels appropriately\n",
    "def labelize(inp):\n",
    "    return (\"__label__\"+index_to_label[inp])\n",
    "\n",
    "print(labelize(4))"
   ]
  },
  {
   "cell_type": "code",
   "execution_count": 12,
   "metadata": {},
   "outputs": [
    {
     "name": "stdout",
     "output_type": "stream",
     "text": [
      " - money in hand, that's good. money in head, that's bad\n"
     ]
    }
   ],
   "source": [
    "# modify tweet. make lower case and take out twitter handle\n",
    "def tokenize(inpstr):\n",
    "    Tweetstr = inpstr\n",
    "    Tweetstr = re.sub('@[^\\s]+','',Tweetstr)\n",
    "    #Tweetstr = nltk.word_tokenize(Tweetstr.lower())\n",
    "    return(Tweetstr.lower())\n",
    "\n",
    "print(tokenize(\"@ConnorMcGregor - money in hand, that's Good. Money in Head, that's bad\"))"
   ]
  },
  {
   "cell_type": "code",
   "execution_count": 13,
   "metadata": {},
   "outputs": [],
   "source": [
    "#df[df.columns[0]] = \"__label__\"+str(df[df.columns[0]])\n",
    "#df[df.columns[0]] = \"__label__\"+df[df.columns[0]].astype(str) #--- just add a __label__ t the beginning\n",
    "#df[df.columns[0]] = \"__label__\"+index_to_label[df[df.columns[0]]] #-- append __label__ and set value \n",
    "#df[df.columns[1]] = re.sub('@[^\\s]+','',str(df.columns[1]))\n",
    "df[df.columns[0]] = df[df.columns[0]].apply(labelize)  #applies labelize function to first column\n",
    "df[df.columns[1]] = df[df.columns[1]].apply(tokenize) #applies tokenize to second column"
   ]
  },
  {
   "cell_type": "code",
   "execution_count": 14,
   "metadata": {},
   "outputs": [
    {
     "data": {
      "text/html": [
       "<div>\n",
       "<style scoped>\n",
       "    .dataframe tbody tr th:only-of-type {\n",
       "        vertical-align: middle;\n",
       "    }\n",
       "\n",
       "    .dataframe tbody tr th {\n",
       "        vertical-align: top;\n",
       "    }\n",
       "\n",
       "    .dataframe thead th {\n",
       "        text-align: right;\n",
       "    }\n",
       "</style>\n",
       "<table border=\"1\" class=\"dataframe\">\n",
       "  <thead>\n",
       "    <tr style=\"text-align: right;\">\n",
       "      <th></th>\n",
       "      <th>0</th>\n",
       "      <th>5</th>\n",
       "    </tr>\n",
       "  </thead>\n",
       "  <tbody>\n",
       "    <tr>\n",
       "      <th>1112654</th>\n",
       "      <td>__label__Positive</td>\n",
       "      <td>u make everyday a #travel day, lol. i lov that</td>\n",
       "    </tr>\n",
       "    <tr>\n",
       "      <th>30370</th>\n",
       "      <td>__label__Negative</td>\n",
       "      <td>i'm not im going to stay awake  or try too...</td>\n",
       "    </tr>\n",
       "    <tr>\n",
       "      <th>904199</th>\n",
       "      <td>__label__Positive</td>\n",
       "      <td>so why did my internal alarm clock wake me @ 6...</td>\n",
       "    </tr>\n",
       "    <tr>\n",
       "      <th>312521</th>\n",
       "      <td>__label__Negative</td>\n",
       "      <td>last keg night of the year</td>\n",
       "    </tr>\n",
       "    <tr>\n",
       "      <th>1437786</th>\n",
       "      <td>__label__Positive</td>\n",
       "      <td>actually, a puppy is too much expensive... who...</td>\n",
       "    </tr>\n",
       "    <tr>\n",
       "      <th>1281352</th>\n",
       "      <td>__label__Positive</td>\n",
       "      <td>at least i haven't heard any bing crosby joke...</td>\n",
       "    </tr>\n",
       "    <tr>\n",
       "      <th>1010093</th>\n",
       "      <td>__label__Positive</td>\n",
       "      <td>no frooti today for you girl! everyone is get...</td>\n",
       "    </tr>\n",
       "    <tr>\n",
       "      <th>170795</th>\n",
       "      <td>__label__Negative</td>\n",
       "      <td>fb i hate when i try &amp;amp; support my local bo...</td>\n",
       "    </tr>\n",
       "    <tr>\n",
       "      <th>1188917</th>\n",
       "      <td>__label__Positive</td>\n",
       "      <td>awe that is sweet, i am spending the day with...</td>\n",
       "    </tr>\n",
       "    <tr>\n",
       "      <th>457454</th>\n",
       "      <td>__label__Negative</td>\n",
       "      <td>no cup holder  but that would be a great add...</td>\n",
       "    </tr>\n",
       "    <tr>\n",
       "      <th>182352</th>\n",
       "      <td>__label__Negative</td>\n",
       "      <td>at crocker park. sorry  we have to get togeth...</td>\n",
       "    </tr>\n",
       "    <tr>\n",
       "      <th>1246015</th>\n",
       "      <td>__label__Positive</td>\n",
       "      <td>just popped out to my veggie patch and very ha...</td>\n",
       "    </tr>\n",
       "    <tr>\n",
       "      <th>1060211</th>\n",
       "      <td>__label__Positive</td>\n",
       "      <td>i'm good, thanks! how are you? day going by q...</td>\n",
       "    </tr>\n",
       "    <tr>\n",
       "      <th>115517</th>\n",
       "      <td>__label__Negative</td>\n",
       "      <td>i saw it as an improvement, i hated the book ...</td>\n",
       "    </tr>\n",
       "    <tr>\n",
       "      <th>1428569</th>\n",
       "      <td>__label__Positive</td>\n",
       "      <td>well enjoy your passing out. i'll talk with y...</td>\n",
       "    </tr>\n",
       "    <tr>\n",
       "      <th>268321</th>\n",
       "      <td>__label__Negative</td>\n",
       "      <td>decorating in this fine sunny weather!</td>\n",
       "    </tr>\n",
       "    <tr>\n",
       "      <th>1035437</th>\n",
       "      <td>__label__Positive</td>\n",
       "      <td>is ecstatic for little kaufman! kick a** at st...</td>\n",
       "    </tr>\n",
       "    <tr>\n",
       "      <th>1196325</th>\n",
       "      <td>__label__Positive</td>\n",
       "      <td>whoho 111 followers</td>\n",
       "    </tr>\n",
       "    <tr>\n",
       "      <th>654420</th>\n",
       "      <td>__label__Negative</td>\n",
       "      <td>i hate this time of year  not seeing some peop...</td>\n",
       "    </tr>\n",
       "    <tr>\n",
       "      <th>1546986</th>\n",
       "      <td>__label__Positive</td>\n",
       "      <td>westmore makeup academy in burbank california?...</td>\n",
       "    </tr>\n",
       "  </tbody>\n",
       "</table>\n",
       "</div>"
      ],
      "text/plain": [
       "                         0                                                  5\n",
       "1112654  __label__Positive    u make everyday a #travel day, lol. i lov that \n",
       "30370    __label__Negative      i'm not im going to stay awake  or try too...\n",
       "904199   __label__Positive  so why did my internal alarm clock wake me @ 6...\n",
       "312521   __label__Negative                        last keg night of the year \n",
       "1437786  __label__Positive  actually, a puppy is too much expensive... who...\n",
       "1281352  __label__Positive   at least i haven't heard any bing crosby joke...\n",
       "1010093  __label__Positive   no frooti today for you girl! everyone is get...\n",
       "170795   __label__Negative  fb i hate when i try &amp; support my local bo...\n",
       "1188917  __label__Positive   awe that is sweet, i am spending the day with...\n",
       "457454   __label__Negative    no cup holder  but that would be a great add...\n",
       "182352   __label__Negative   at crocker park. sorry  we have to get togeth...\n",
       "1246015  __label__Positive  just popped out to my veggie patch and very ha...\n",
       "1060211  __label__Positive   i'm good, thanks! how are you? day going by q...\n",
       "115517   __label__Negative   i saw it as an improvement, i hated the book ...\n",
       "1428569  __label__Positive   well enjoy your passing out. i'll talk with y...\n",
       "268321   __label__Negative            decorating in this fine sunny weather! \n",
       "1035437  __label__Positive  is ecstatic for little kaufman! kick a** at st...\n",
       "1196325  __label__Positive                               whoho 111 followers \n",
       "654420   __label__Negative  i hate this time of year  not seeing some peop...\n",
       "1546986  __label__Positive  westmore makeup academy in burbank california?..."
      ]
     },
     "execution_count": 14,
     "metadata": {},
     "output_type": "execute_result"
    }
   ],
   "source": [
    "df.head(20)"
   ]
  },
  {
   "cell_type": "code",
   "execution_count": 15,
   "metadata": {},
   "outputs": [],
   "source": [
    "#df.to_csv('training_sentiment140.csv', sep = ' ', header=False, index=False)"
   ]
  },
  {
   "cell_type": "markdown",
   "metadata": {},
   "source": [
    "CREATE THE TEST AND VALIDATION FILES"
   ]
  },
  {
   "cell_type": "code",
   "execution_count": 16,
   "metadata": {},
   "outputs": [
    {
     "data": {
      "text/plain": [
       "(1600000, 1120000, 480000)"
      ]
     },
     "execution_count": 16,
     "metadata": {},
     "output_type": "execute_result"
    }
   ],
   "source": [
    "rows = df.shape[0]\n",
    "train = int(.7 * rows)\n",
    "test = rows-train\n",
    "\n",
    "rows, train, test"
   ]
  },
  {
   "cell_type": "code",
   "execution_count": 17,
   "metadata": {},
   "outputs": [],
   "source": [
    "# Write Training Set\n",
    "#csv.writer(df)\n",
    "df.iloc[:train].to_csv('training_sentiment140.csv', sep = ' ', header=False, index=False)\n",
    "df.iloc[train:].to_csv('test_sentiment140.csv', sep = ' ', header=False, index=False)\n",
    "#df.iloc[:train].to_csv('training_sentiment140.csv', sep = ' ', header=False, index=False, quoting=csv.QUOTE_NONE, quotechar=\"\",  escapechar=\" \")\n",
    "\n",
    "# Write Validation Set\n",
    "#df.iloc[train:].to_csv('test_sentiment140.csv', sep = ' ', header=False, index=False, quoting=csv.QUOTE_NONE, quotechar=\"\",  escapechar=\" \")"
   ]
  },
  {
   "cell_type": "code",
   "execution_count": 18,
   "metadata": {},
   "outputs": [],
   "source": [
    "with open('training_sentiment140.csv', 'r') as f, open('training_sentiment140_noquotes.csv', 'w') as fo:\n",
    "    for line in f:\n",
    "        fo.write(line.replace('\"', ''))"
   ]
  },
  {
   "cell_type": "code",
   "execution_count": 19,
   "metadata": {},
   "outputs": [],
   "source": [
    "with open('test_sentiment140.csv', 'r') as f, open('test_sentiment140.csv_noquotes.csv', 'w') as fo:\n",
    "    for line in f:\n",
    "        fo.write(line.replace('\"', ''))"
   ]
  },
  {
   "cell_type": "code",
   "execution_count": null,
   "metadata": {},
   "outputs": [],
   "source": []
  }
 ],
 "metadata": {
  "kernelspec": {
   "display_name": "conda_python3",
   "language": "python",
   "name": "conda_python3"
  },
  "language_info": {
   "codemirror_mode": {
    "name": "ipython",
    "version": 3
   },
   "file_extension": ".py",
   "mimetype": "text/x-python",
   "name": "python",
   "nbconvert_exporter": "python",
   "pygments_lexer": "ipython3",
   "version": "3.6.5"
  }
 },
 "nbformat": 4,
 "nbformat_minor": 2
}
